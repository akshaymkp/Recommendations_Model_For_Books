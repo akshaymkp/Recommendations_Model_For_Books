{
 "cells": [
  {
   "cell_type": "code",
   "execution_count": 1,
   "id": "d9e8056f",
   "metadata": {},
   "outputs": [],
   "source": [
    "# import libraries\n",
    "import time\n",
    "import os\n",
    "import re\n",
    "from pymongo import MongoClient\n",
    "import pandas as pd\n",
    "import matplotlib.pyplot as plt\n",
    "import seaborn as sns\n",
    "import nltk  \n",
    "import numpy as np  \n",
    "import random  \n",
    "import string\n",
    "\n",
    "import bs4 as bs  \n",
    "import urllib.request  \n",
    "import re \n",
    "\n",
    "from nltk.corpus import stopwords\n",
    "from nltk.tokenize import word_tokenize\n",
    "import heapq"
   ]
  },
  {
   "cell_type": "code",
   "execution_count": 2,
   "id": "7bdf0e2d",
   "metadata": {},
   "outputs": [
    {
     "data": {
      "text/plain": [
       "'C:\\\\Users\\\\aksha\\\\Programming_And_Course\\\\UCD\\\\Machine_Learning\\\\Final Project'"
      ]
     },
     "execution_count": 2,
     "metadata": {},
     "output_type": "execute_result"
    }
   ],
   "source": [
    "# check working directory\n",
    "os.getcwd()"
   ]
  },
  {
   "cell_type": "markdown",
   "id": "4f2134bd",
   "metadata": {},
   "source": [
    "### Fetching data from Mongodb"
   ]
  },
  {
   "cell_type": "code",
   "execution_count": 3,
   "id": "214cf553",
   "metadata": {},
   "outputs": [],
   "source": [
    "# mongo db params\n",
    "client = MongoClient(\"mongodb://localhost:27017/\")\n",
    "database = client[\"ddr\"]\n",
    "collection = database[\"goodreads_books_info\"]"
   ]
  },
  {
   "cell_type": "code",
   "execution_count": 4,
   "id": "2dea9f71",
   "metadata": {},
   "outputs": [],
   "source": [
    "# get data from mongodb\n",
    "def fetch_data(collection_name, df):\n",
    "    for item in collection_name.find():\n",
    "        try:\n",
    "            bookTitle = item['info']['BookTitle']\n",
    "            authorName = item['info']['AuthorName']\n",
    "            rating = item['info']['Rating']\n",
    "            countRatings = item['info']['NumberOfRatings']\n",
    "            countReviews = item['info']['NumberOfReviews']\n",
    "            editionLang = item['info']['EditionLanguage']\n",
    "            top5Genres = item['info']['Top5Genres']\n",
    "            description = item['info']['BookDescription']\n",
    "            \n",
    "            df = df.append([[bookTitle,authorName,rating,countRatings,countReviews,editionLang,top5Genres,description]],\n",
    "                           ignore_index = True)\n",
    "        \n",
    "        except:\n",
    "            pass\n",
    "        \n",
    "    return(df)"
   ]
  },
  {
   "cell_type": "code",
   "execution_count": 5,
   "id": "3a79f72e",
   "metadata": {},
   "outputs": [
    {
     "data": {
      "text/html": [
       "<div>\n",
       "<style scoped>\n",
       "    .dataframe tbody tr th:only-of-type {\n",
       "        vertical-align: middle;\n",
       "    }\n",
       "\n",
       "    .dataframe tbody tr th {\n",
       "        vertical-align: top;\n",
       "    }\n",
       "\n",
       "    .dataframe thead th {\n",
       "        text-align: right;\n",
       "    }\n",
       "</style>\n",
       "<table border=\"1\" class=\"dataframe\">\n",
       "  <thead>\n",
       "    <tr style=\"text-align: right;\">\n",
       "      <th></th>\n",
       "      <th>bookTitle</th>\n",
       "      <th>authorName</th>\n",
       "      <th>rating</th>\n",
       "      <th>countRatings</th>\n",
       "      <th>countReviews</th>\n",
       "      <th>editionLang</th>\n",
       "      <th>genres</th>\n",
       "      <th>Description</th>\n",
       "    </tr>\n",
       "  </thead>\n",
       "  <tbody>\n",
       "    <tr>\n",
       "      <th>0</th>\n",
       "      <td>The New Drawing on the Right Side of the Brain</td>\n",
       "      <td>Betty Edwards</td>\n",
       "      <td>3.87</td>\n",
       "      <td>323968</td>\n",
       "      <td>868</td>\n",
       "      <td>English</td>\n",
       "      <td>[Art, Nonfiction, Art, Drawing, Reference]</td>\n",
       "      <td>When Drawing on the Right Side of the Brain wa...</td>\n",
       "    </tr>\n",
       "    <tr>\n",
       "      <th>1</th>\n",
       "      <td>Steal Like an Artist: 10 Things Nobody Told Yo...</td>\n",
       "      <td>Austin Kleon</td>\n",
       "      <td>3.95</td>\n",
       "      <td>241210</td>\n",
       "      <td>7067</td>\n",
       "      <td>English</td>\n",
       "      <td>[Nonfiction, Art, Self Help, Language, Writing]</td>\n",
       "      <td>You don’t need to be a genius, you just need t...</td>\n",
       "    </tr>\n",
       "    <tr>\n",
       "      <th>2</th>\n",
       "      <td>Wall and Piece</td>\n",
       "      <td>Banksy</td>\n",
       "      <td>3.85</td>\n",
       "      <td>215178</td>\n",
       "      <td>900</td>\n",
       "      <td>English</td>\n",
       "      <td>[Art, Nonfiction, Politics, Art, Street Art]</td>\n",
       "      <td>Banksy, Britain's now-legendary \"guerilla\" str...</td>\n",
       "    </tr>\n",
       "    <tr>\n",
       "      <th>3</th>\n",
       "      <td>The Artist's Way: A Spiritual Path to Higher C...</td>\n",
       "      <td>Julia Cameron</td>\n",
       "      <td>3.92</td>\n",
       "      <td>102222</td>\n",
       "      <td>3341</td>\n",
       "      <td>English</td>\n",
       "      <td>[Nonfiction, Language, Writing, Art, Self Help]</td>\n",
       "      <td>The Artist’s Way is the seminal book on the su...</td>\n",
       "    </tr>\n",
       "    <tr>\n",
       "      <th>4</th>\n",
       "      <td>Art and Fear: Observations on the Perils (and ...</td>\n",
       "      <td>Ted Orland</td>\n",
       "      <td>3.76</td>\n",
       "      <td>79816</td>\n",
       "      <td>1182</td>\n",
       "      <td>English</td>\n",
       "      <td>[Art, Nonfiction, Language, Writing, Self Help]</td>\n",
       "      <td>\"This is a book about making art. Ordinary art...</td>\n",
       "    </tr>\n",
       "    <tr>\n",
       "      <th>...</th>\n",
       "      <td>...</td>\n",
       "      <td>...</td>\n",
       "      <td>...</td>\n",
       "      <td>...</td>\n",
       "      <td>...</td>\n",
       "      <td>...</td>\n",
       "      <td>...</td>\n",
       "      <td>...</td>\n",
       "    </tr>\n",
       "    <tr>\n",
       "      <th>855</th>\n",
       "      <td>The Road to Little Dribbling: Adventures of an...</td>\n",
       "      <td>Bill Bryson</td>\n",
       "      <td>3.70</td>\n",
       "      <td>33434</td>\n",
       "      <td>4487</td>\n",
       "      <td>English</td>\n",
       "      <td>[Travel, Nonfiction, Humor, Autobiography, Mem...</td>\n",
       "      <td>The hilarious and loving sequel to a hilarious...</td>\n",
       "    </tr>\n",
       "    <tr>\n",
       "      <th>856</th>\n",
       "      <td>A Time of Gifts</td>\n",
       "      <td>Jan Morris</td>\n",
       "      <td>4.06</td>\n",
       "      <td>7240</td>\n",
       "      <td>847</td>\n",
       "      <td>English</td>\n",
       "      <td>[Travel, Nonfiction, Autobiography, Memoir, Hi...</td>\n",
       "      <td>In 1933, at the age of 18, Patrick Leigh Fermo...</td>\n",
       "    </tr>\n",
       "    <tr>\n",
       "      <th>857</th>\n",
       "      <td>The Old Ways: A Journey on Foot</td>\n",
       "      <td>Robert Macfarlane</td>\n",
       "      <td>4.15</td>\n",
       "      <td>7842</td>\n",
       "      <td>1111</td>\n",
       "      <td>English</td>\n",
       "      <td>[Nonfiction, Travel, Environment, Nature, Hist...</td>\n",
       "      <td>Robert Macfarlane travels Britain's ancient pa...</td>\n",
       "    </tr>\n",
       "    <tr>\n",
       "      <th>858</th>\n",
       "      <td>Around the World in Eighty Days</td>\n",
       "      <td>Michael Glencross</td>\n",
       "      <td>3.94</td>\n",
       "      <td>211560</td>\n",
       "      <td>8583</td>\n",
       "      <td>English</td>\n",
       "      <td>[Classics, Fiction, Adventure, Science Fiction...</td>\n",
       "      <td>One night in the reform club, Phileas Fogg bet...</td>\n",
       "    </tr>\n",
       "    <tr>\n",
       "      <th>859</th>\n",
       "      <td>The Snow Leopard</td>\n",
       "      <td>Peter Matthiessen</td>\n",
       "      <td>4.06</td>\n",
       "      <td>16234</td>\n",
       "      <td>1215</td>\n",
       "      <td>English</td>\n",
       "      <td>[Travel, Nonfiction, Environment, Nature, Auto...</td>\n",
       "      <td>When Matthiessen went to Nepal to study the Hi...</td>\n",
       "    </tr>\n",
       "  </tbody>\n",
       "</table>\n",
       "<p>860 rows × 8 columns</p>\n",
       "</div>"
      ],
      "text/plain": [
       "                                             bookTitle         authorName  \\\n",
       "0       The New Drawing on the Right Side of the Brain      Betty Edwards   \n",
       "1    Steal Like an Artist: 10 Things Nobody Told Yo...       Austin Kleon   \n",
       "2                                       Wall and Piece             Banksy   \n",
       "3    The Artist's Way: A Spiritual Path to Higher C...      Julia Cameron   \n",
       "4    Art and Fear: Observations on the Perils (and ...         Ted Orland   \n",
       "..                                                 ...                ...   \n",
       "855  The Road to Little Dribbling: Adventures of an...        Bill Bryson   \n",
       "856                                    A Time of Gifts         Jan Morris   \n",
       "857                    The Old Ways: A Journey on Foot  Robert Macfarlane   \n",
       "858                    Around the World in Eighty Days  Michael Glencross   \n",
       "859                                   The Snow Leopard  Peter Matthiessen   \n",
       "\n",
       "    rating countRatings countReviews editionLang  \\\n",
       "0     3.87       323968          868     English   \n",
       "1     3.95       241210         7067     English   \n",
       "2     3.85       215178          900     English   \n",
       "3     3.92       102222         3341     English   \n",
       "4     3.76        79816         1182     English   \n",
       "..     ...          ...          ...         ...   \n",
       "855   3.70        33434         4487     English   \n",
       "856   4.06         7240          847     English   \n",
       "857   4.15         7842         1111     English   \n",
       "858   3.94       211560         8583     English   \n",
       "859   4.06        16234         1215     English   \n",
       "\n",
       "                                                genres  \\\n",
       "0           [Art, Nonfiction, Art, Drawing, Reference]   \n",
       "1      [Nonfiction, Art, Self Help, Language, Writing]   \n",
       "2         [Art, Nonfiction, Politics, Art, Street Art]   \n",
       "3      [Nonfiction, Language, Writing, Art, Self Help]   \n",
       "4      [Art, Nonfiction, Language, Writing, Self Help]   \n",
       "..                                                 ...   \n",
       "855  [Travel, Nonfiction, Humor, Autobiography, Mem...   \n",
       "856  [Travel, Nonfiction, Autobiography, Memoir, Hi...   \n",
       "857  [Nonfiction, Travel, Environment, Nature, Hist...   \n",
       "858  [Classics, Fiction, Adventure, Science Fiction...   \n",
       "859  [Travel, Nonfiction, Environment, Nature, Auto...   \n",
       "\n",
       "                                           Description  \n",
       "0    When Drawing on the Right Side of the Brain wa...  \n",
       "1    You don’t need to be a genius, you just need t...  \n",
       "2    Banksy, Britain's now-legendary \"guerilla\" str...  \n",
       "3    The Artist’s Way is the seminal book on the su...  \n",
       "4    \"This is a book about making art. Ordinary art...  \n",
       "..                                                 ...  \n",
       "855  The hilarious and loving sequel to a hilarious...  \n",
       "856  In 1933, at the age of 18, Patrick Leigh Fermo...  \n",
       "857  Robert Macfarlane travels Britain's ancient pa...  \n",
       "858  One night in the reform club, Phileas Fogg bet...  \n",
       "859  When Matthiessen went to Nepal to study the Hi...  \n",
       "\n",
       "[860 rows x 8 columns]"
      ]
     },
     "execution_count": 5,
     "metadata": {},
     "output_type": "execute_result"
    }
   ],
   "source": [
    "# data frame\n",
    "df_book_info = pd.DataFrame()\n",
    "df_book = fetch_data(collection, df_book_info)\n",
    "\n",
    "# renmaing columns\n",
    "df_book.columns = ['bookTitle', 'authorName', 'rating', 'countRatings',\n",
    "                    'countReviews','editionLang','genres','Description']\n",
    "\n",
    "# dropping duplicates\n",
    "df_book = df_book.drop_duplicates(subset='bookTitle',ignore_index=True)\n",
    "df_book"
   ]
  },
  {
   "cell_type": "markdown",
   "id": "e980e506",
   "metadata": {},
   "source": [
    "### EDA and data cleaning"
   ]
  },
  {
   "cell_type": "code",
   "execution_count": 6,
   "id": "48c1b4e0",
   "metadata": {},
   "outputs": [
    {
     "data": {
      "image/png": "[encoded data removed]",
      "text/plain": [
       "<Figure size 720x504 with 1 Axes>"
      ]
     },
     "metadata": {
      "needs_background": "light"
     },
     "output_type": "display_data"
    }
   ],
   "source": [
    "# Creating histogram\n",
    "fig, axs = plt.subplots(1, 1,\n",
    "                        figsize =(10, 7),\n",
    "                        tight_layout = False)\n",
    " \n",
    "axs.hist(df_book['rating'], bins = 10)\n",
    " \n",
    "# Remove axes splines\n",
    "for s in ['top', 'bottom', 'left', 'right']:\n",
    "    axs.spines[s].set_visible(False)\n",
    " \n",
    "# Remove x, y ticks\n",
    "axs.xaxis.set_ticks_position('none')\n",
    "axs.yaxis.set_ticks_position('none')\n",
    "   \n",
    "# Add padding between axes and labels\n",
    "axs.xaxis.set_tick_params(pad = 5)\n",
    "axs.yaxis.set_tick_params(pad = 10)\n",
    " \n",
    "# Add x, y gridlines\n",
    "axs.grid(b = True, color ='grey',\n",
    "        linestyle ='-.', linewidth = 0.5,\n",
    "        alpha = 0.6)\n",
    " \n",
    "# Adding extra features   \n",
    "plt.xlabel(\"X-axis\")\n",
    "plt.ylabel(\"y-axis\")\n",
    "plt.title('Ratings Distribution')\n",
    "# Show plot\n",
    "plt.show()"
   ]
  },
  {
   "cell_type": "code",
   "execution_count": 7,
   "id": "1a372ca3",
   "metadata": {},
   "outputs": [],
   "source": [
    "# unique genre list\n",
    "genreList = []\n",
    "for index, row in df_book.iterrows():\n",
    "    genres = row[\"genres\"]\n",
    "    \n",
    "    for genre in genres:\n",
    "        if genre not in genreList:\n",
    "            genreList.append(genre)\n"
   ]
  },
  {
   "cell_type": "code",
   "execution_count": 8,
   "id": "ae423ca8",
   "metadata": {},
   "outputs": [],
   "source": [
    "# one hot encoding function\n",
    "def binary(genre_list,main_list):\n",
    "    binaryList = []\n",
    "    \n",
    "    for genre in main_list:\n",
    "        if genre in genre_list:\n",
    "            binaryList.append(1)\n",
    "        else:\n",
    "            binaryList.append(0)\n",
    "    \n",
    "    return binaryList\n"
   ]
  },
  {
   "cell_type": "code",
   "execution_count": 9,
   "id": "5ec58417",
   "metadata": {},
   "outputs": [
    {
     "data": {
      "text/plain": [
       "0    [1, 1, 1, 1, 0, 0, 0, 0, 0, 0, 0, 0, 0, 0, 0, ...\n",
       "1    [1, 1, 0, 0, 1, 1, 1, 0, 0, 0, 0, 0, 0, 0, 0, ...\n",
       "2    [1, 1, 0, 0, 0, 0, 0, 1, 1, 0, 0, 0, 0, 0, 0, ...\n",
       "3    [1, 1, 0, 0, 1, 1, 1, 0, 0, 0, 0, 0, 0, 0, 0, ...\n",
       "4    [1, 1, 0, 0, 1, 1, 1, 0, 0, 0, 0, 0, 0, 0, 0, ...\n",
       "Name: genres_bin, dtype: object"
      ]
     },
     "execution_count": 9,
     "metadata": {},
     "output_type": "execute_result"
    }
   ],
   "source": [
    "# generating labels for genres\n",
    "df_book['genres_bin'] = df_book['genres'].apply(lambda x: binary(x, genreList))\n",
    "df_book['genres_bin'].head()"
   ]
  },
  {
   "cell_type": "code",
   "execution_count": 10,
   "id": "9ad9b629",
   "metadata": {},
   "outputs": [
    {
     "data": {
      "image/png": "[encoded data removed]",
      "text/plain": [
       "<Figure size 864x720 with 1 Axes>"
      ]
     },
     "metadata": {
      "needs_background": "light"
     },
     "output_type": "display_data"
    }
   ],
   "source": [
    "# plotting top authors\n",
    "plt.subplots(figsize=(12,10))\n",
    "list1=[]\n",
    "for i in range(len(df_book['authorName'])):\n",
    "    list1.append(df_book['authorName'][i])\n",
    "\n",
    "ax=pd.Series(list1).value_counts()[:15].sort_values(ascending=True).plot.barh(width=0.9,color=sns.color_palette('muted',40))\n",
    "\n",
    "for i, v in enumerate(pd.Series(list1).value_counts()[:15].sort_values(ascending=True).values): \n",
    "    ax.text(.8, i, v,fontsize=10,color='white',weight='bold')\n",
    "\n",
    "plt.title('Authors with highest appearance')\n",
    "plt.show()"
   ]
  },
  {
   "cell_type": "code",
   "execution_count": 11,
   "id": "79e5ebc8",
   "metadata": {
    "scrolled": false
   },
   "outputs": [
    {
     "data": {
      "text/plain": [
       "0    [1, 0, 0, 0, 0, 0, 0, 0, 0, 0, 0, 0, 0, 0, 0, ...\n",
       "1    [0, 1, 0, 0, 0, 0, 0, 0, 0, 0, 0, 0, 0, 0, 0, ...\n",
       "2    [0, 0, 1, 0, 0, 0, 0, 0, 0, 0, 0, 0, 0, 0, 0, ...\n",
       "3    [0, 0, 0, 1, 0, 0, 0, 0, 0, 0, 0, 0, 0, 0, 0, ...\n",
       "4    [0, 0, 0, 0, 1, 0, 0, 0, 0, 0, 0, 0, 0, 0, 0, ...\n",
       "Name: author_bin, dtype: object"
      ]
     },
     "execution_count": 11,
     "metadata": {},
     "output_type": "execute_result"
    }
   ],
   "source": [
    "# labeling for authors\n",
    "authorList = []\n",
    "for index, row in df_book.iterrows():\n",
    "    author = df_book[\"authorName\"]\n",
    "    \n",
    "    for i in author:\n",
    "        if i not in authorList:\n",
    "            authorList.append(i)\n",
    "            \n",
    "df_book['author_bin'] = df_book['authorName'].apply(lambda x: binary(x,authorList ))\n",
    "df_book['author_bin'].head()"
   ]
  },
  {
   "cell_type": "markdown",
   "id": "7f831af6",
   "metadata": {},
   "source": [
    "### Transformation of book description using bag of words method"
   ]
  },
  {
   "cell_type": "code",
   "execution_count": 12,
   "id": "28403dbf",
   "metadata": {},
   "outputs": [
    {
     "name": "stderr",
     "output_type": "stream",
     "text": [
      "[nltk_data] Downloading package wordnet to\n",
      "[nltk_data]     C:\\Users\\aksha\\AppData\\Roaming\\nltk_data...\n",
      "[nltk_data]   Package wordnet is already up-to-date!\n",
      "[nltk_data] Downloading package omw-1.4 to\n",
      "[nltk_data]     C:\\Users\\aksha\\AppData\\Roaming\\nltk_data...\n",
      "[nltk_data]   Package omw-1.4 is already up-to-date!\n",
      "c:\\users\\aksha\\appdata\\local\\programs\\python\\python39\\lib\\site-packages\\sklearn\\utils\\deprecation.py:87: FutureWarning: Function get_feature_names is deprecated; get_feature_names is deprecated in 1.0 and will be removed in 1.2. Please use get_feature_names_out instead.\n",
      "  warnings.warn(msg, category=FutureWarning)\n"
     ]
    }
   ],
   "source": [
    "###################### Transforming Descriptions ################\n",
    "\n",
    "# Calling DataFrame constructor on list\n",
    "df = pd.DataFrame(df_book,columns =['Description'])\n",
    "\n",
    "#library that contains punctuation\n",
    "import string\n",
    "string.punctuation\n",
    "\n",
    "#defining the function to remove punctuation\n",
    "def remove_punctuation(text):\n",
    "    punctuationfree=\"\".join([i for i in text if i not in string.punctuation])\n",
    "    return punctuationfree\n",
    "#storing the puntuation free text\n",
    "df['Description_Token'] = df['Description'].apply(lambda x:remove_punctuation(x))\n",
    "df['Description_Token']= df['Description_Token'].apply(lambda x: x.lower())\n",
    "\n",
    "# using list comprehension + split()\n",
    "# Tokenizing strings in list of strings\n",
    "df['Description_Token'] = [sub.split() for sub in df['Description_Token']]\n",
    "\n",
    "#importing nlp library\n",
    "import nltk\n",
    "#Stop words present in the library\n",
    "stopwords = nltk.corpus.stopwords.words('english')\n",
    "\n",
    "#defining the function to remove stopwords from tokenized text\n",
    "def remove_stopwords(text):\n",
    "    output= [i for i in text if i not in stopwords]\n",
    "    return output\n",
    "\n",
    "#applying the function\n",
    "df['Description_Token']= df['Description_Token'].apply(lambda x:remove_stopwords(x))\n",
    "\n",
    "#importing the Stemming function from nltk library\n",
    "from nltk.stem.porter import PorterStemmer\n",
    "#defining the object for stemming\n",
    "porter_stemmer = PorterStemmer()\n",
    "\n",
    "#defining a function for stemming\n",
    "def stemming(text):\n",
    "    stem_text = [porter_stemmer.stem(word) for word in text]\n",
    "    return stem_text\n",
    "\n",
    "\n",
    "df['Description_Token']=df['Description_Token'].apply(lambda x: stemming(x))\n",
    "\n",
    "from nltk.stem import WordNetLemmatizer\n",
    "#defining the object for Lemmatization\n",
    "wordnet_lemmatizer = WordNetLemmatizer()\n",
    "\n",
    "import nltk\n",
    "#nltk.download()\n",
    "nltk.download('wordnet')\n",
    "nltk.download('omw-1.4')\n",
    "\n",
    "#defining the function for lemmatization\n",
    "def lemmatizer(text):\n",
    "    lemm_text = [wordnet_lemmatizer.lemmatize(word) for word in text]\n",
    "    return lemm_text\n",
    "\n",
    "df['Description_Token']=df['Description_Token'].apply(lambda x:lemmatizer(x))\n",
    "\n",
    "import pandas as pd\n",
    "import numpy as np\n",
    "from sklearn.metrics.pairwise import cosine_similarity\n",
    "from sklearn.feature_extraction.text import CountVectorizer\n",
    "from nltk.tokenize.treebank import TreebankWordDetokenizer\n",
    "\n",
    "df['Description_Token'] = [' '.join(x) for x in df['Description_Token']] \n",
    "\n",
    "count = CountVectorizer(lowercase=False)\n",
    "count_matrix = count.fit_transform(df['Description_Token'])\n",
    "df_bow_sklearn = pd.DataFrame(count_matrix.toarray(),columns=count.get_feature_names())\n",
    "df_bow_sklearn['bow_token'] = df_bow_sklearn.values.tolist()\n",
    "\n",
    "df_book['bow_token'] = df_bow_sklearn['bow_token']\n"
   ]
  },
  {
   "cell_type": "markdown",
   "id": "7143be32",
   "metadata": {},
   "source": [
    "### Similarity Function"
   ]
  },
  {
   "cell_type": "code",
   "execution_count": 13,
   "id": "1b5d56b6",
   "metadata": {},
   "outputs": [],
   "source": [
    "# similarity function\n",
    "from scipy import spatial\n",
    "\n",
    "def Similarity(a,book2):\n",
    "    a = a.iloc[0,:]\n",
    "    b = df_book.iloc[book2]\n",
    "    \n",
    "    genresA = a['genres_bin']\n",
    "    genresB = b['genres_bin']\n",
    "    genreDistance = spatial.distance.cosine(genresA, genresB)\n",
    "    \n",
    "    scoreA = a['author_bin']\n",
    "    scoreB = b['author_bin']\n",
    "    scoreDistance = spatial.distance.cosine(scoreA, scoreB)\n",
    "    \n",
    "    ratingA = float(a['rating'])\n",
    "    ratingB = float(b['rating'])\n",
    "    ratingDistance = spatial.distance.cosine(ratingA, ratingB)\n",
    "    \n",
    "    descA = a['bow_token']\n",
    "    descB = b['bow_token']\n",
    "    descDistance = spatial.distance.cosine(descA, descB) \n",
    "    \n",
    "    return genreDistance + ratingDistance + scoreDistance + descDistance"
   ]
  },
  {
   "cell_type": "markdown",
   "id": "8fa57eb8",
   "metadata": {},
   "source": [
    "### Generate recommendations "
   ]
  },
  {
   "cell_type": "code",
   "execution_count": 14,
   "id": "710df7f6",
   "metadata": {},
   "outputs": [],
   "source": [
    "import operator\n",
    "\n",
    "def predict_score():\n",
    "    name = input('Enter a book title: ')\n",
    "    \n",
    "    new_book = df_book[df_book['bookTitle'].str.contains(name)]\n",
    "    print('Selected Movie: ',new_book.bookTitle.values[0])\n",
    "    \n",
    "    def getNeighbors(baseBook, K):\n",
    "        distances = []\n",
    "        \n",
    "        for index, book in df_book.iterrows():\n",
    "            if df_book.iloc[index,0] != baseBook['bookTitle'].values[0]:\n",
    "                dist = Similarity(baseBook, index)\n",
    "                distances.append((df_book.iloc[index,0], dist))\n",
    "    \n",
    "        distances.sort(key=operator.itemgetter(1))\n",
    "        \n",
    "        # initialize neighbors\n",
    "        neighbors = []\n",
    "        \n",
    "        # get first 10 neighbors\n",
    "        for x in range(K):\n",
    "            neighbors.append(distances[x])\n",
    "        return neighbors\n",
    "    \n",
    "    # initilaize k\n",
    "    K = 10\n",
    "    neighbors = getNeighbors(new_book, K)\n",
    "    \n",
    "    print('\\nRecommended Movies: \\n')\n",
    "    \n",
    "    for neighbor in neighbors:\n",
    "        print(neighbor[0])\n",
    "    \n",
    "    print('\\n')"
   ]
  },
  {
   "cell_type": "markdown",
   "id": "f4cde5bd",
   "metadata": {},
   "source": [
    "### Test output"
   ]
  },
  {
   "cell_type": "code",
   "execution_count": 16,
   "id": "f13c1a4d",
   "metadata": {},
   "outputs": [
    {
     "name": "stdout",
     "output_type": "stream",
     "text": [
      "Enter a book title: Lord of the Rings\n",
      "Selected Movie:  The Lord of the Rings\n",
      "\n",
      "Recommended Movies: \n",
      "\n",
      "The Fellowship of the Ring\n",
      "The Two Towers\n",
      "The Return of the King\n",
      "The Man Who Mistook His Wife for a Hat and Other Clinical Tales\n",
      "The Righteous Mind: Why Good People Are Divided by Politics and Religion\n",
      "The Willpower Instinct: How Self-Control Works, Why It Matters, and What You Can Do to Get More of It\n",
      "The Hobbit, or There and Back Again\n",
      "A Dance with Dragons\n",
      "A Storm of Swords\n",
      "Life of Pi\n",
      "\n",
      "\n"
     ]
    }
   ],
   "source": [
    "predict_score()"
   ]
  },
  {
   "cell_type": "code",
   "execution_count": null,
   "id": "709d4a27",
   "metadata": {},
   "outputs": [],
   "source": []
  }
 ],
 "metadata": {
  "kernelspec": {
   "display_name": "Python 3 (ipykernel)",
   "language": "python",
   "name": "python3"
  },
  "language_info": {
   "codemirror_mode": {
    "name": "ipython",
    "version": 3
   },
   "file_extension": ".py",
   "mimetype": "text/x-python",
   "name": "python",
   "nbconvert_exporter": "python",
   "pygments_lexer": "ipython3",
   "version": "3.9.6"
  }
 },
 "nbformat": 4,
 "nbformat_minor": 5
}
